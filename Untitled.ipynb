{
 "cells": [
  {
   "cell_type": "code",
   "execution_count": 104,
   "id": "bb2bc6f2",
   "metadata": {},
   "outputs": [],
   "source": [
    "import numpy as np\n",
    "from matplotlib import pyplot as plt"
   ]
  },
  {
   "cell_type": "code",
   "execution_count": 112,
   "id": "5a8a2bde",
   "metadata": {},
   "outputs": [],
   "source": [
    "def f(TK):\n",
    "    # function definition\n",
    "    # function determines how the global temperature changes as time passes using temperature in kelvins \n",
    "    C = 100    \n",
    "    # planetary heat capacity, which connects the rate of change of the temperature to energy densities.\n",
    "    S = 1367.6   \n",
    "    # the amount of energy (W) flowing through a flat surface of area 1m2. From satellite observa- tions \n",
    "    # we know that the energy flux from the Sun is S = 1367.6 Wm−2\n",
    "    Q =1/4*S   \n",
    "    # \n",
    "    α = 0.7-0.4*((np.exp((TK-265)/5))/(1+np.exp((TK-265)/5)))  \n",
    "    # albedo. The Earth’s average albedo is about 0.3, which means that roughly 70% of the incoming energy is \n",
    "    # absorbed by the Earth’s surface.\n",
    "    σ = 5.67e-8    # (pronounced “sigma”) a constant, its value is σ = 5.67 · 10−8 Wm−2K−4.\n",
    "    \n",
    "    return ((1-α)*(Q-ε*σ*(TK**4)))/C\n",
    "\n",
    "def K_to_C(TK):\n",
    "    # changes temperature output form kelvins to celcius\n",
    "    TC = TK-273.15\n",
    "    return TC\n",
    "\n",
    "def C_to_F(TC):\n",
    "    # takes the celcius from above and changes it to fahrenheit\n",
    "    TF = (TC*2)+30\n",
    "    return TF"
   ]
  },
  {
   "cell_type": "code",
   "execution_count": 113,
   "id": "42b99d12",
   "metadata": {},
   "outputs": [],
   "source": [
    "def RK4(f, x, t, dt, n):\n",
    "    # used the same ODE integrater from class\n",
    "    # Fourth-Order Runge-Kutta Method\n",
    "    T = np.array(t)\n",
    "    X = np.array(x)\n",
    "    \n",
    "    for i in range(n):\n",
    "        k1 = dt * np.array(f(*(x)))\n",
    "        k2 = dt * np.array(f(*(x + 0.5*k1)))\n",
    "        k3 = dt * np.array(f(*(x + 0.5*k2)))\n",
    "        k4 = dt * np.array(f(*(x + k3)))\n",
    "        \n",
    "        t += dt\n",
    "        x += k1/6 + k2/3 + k3/3 + k4/6\n",
    "        \n",
    "        T = np.append( T, t)\n",
    "        X = np.vstack((X, x))\n",
    "        \n",
    "    return T, X\n",
    "\n"
   ]
  },
  {
   "cell_type": "code",
   "execution_count": 118,
   "id": "374f34b8",
   "metadata": {},
   "outputs": [],
   "source": [
    "ε = .5\n",
    "# find ebsalon, depends on CO2 and greenhouse gas\n",
    "#find out its meaning and how to change it\n",
    "TP, TKP = RK4(f, (280,), 1760, 1/12, 262*12)"
   ]
  },
  {
   "cell_type": "code",
   "execution_count": 119,
   "id": "6c8f49dd",
   "metadata": {},
   "outputs": [
    {
     "data": {
      "text/plain": [
       "Text(0, 0.5, 'Temperature')"
      ]
     },
     "execution_count": 119,
     "metadata": {},
     "output_type": "execute_result"
    },
    {
     "data": {
      "image/png": "[encoded data removed]",
      "text/plain": [
       "<Figure size 432x288 with 1 Axes>"
      ]
     },
     "metadata": {
      "needs_background": "light"
     },
     "output_type": "display_data"
    }
   ],
   "source": [
    "# Step 5. Plot the results\n",
    "\n",
    "plt.plot(TP, C_to_F(K_to_C(TKP0)))\n",
    "plt.plot(TP, C_to_F(K_to_C(TKP1)))\n",
    "plt.title(\"Past to Modern Day Global Temperature\")\n",
    "plt.xlabel(\"Year\")\n",
    "plt.ylabel(\"Temperature\")"
   ]
  },
  {
   "cell_type": "code",
   "execution_count": 151,
   "id": "16290adb",
   "metadata": {},
   "outputs": [],
   "source": [
    "# ε represents the fraction of upward longwave radiation from the surface that is absorbed,\n",
    "# the absorptivity of the atmosphere."
   ]
  },
  {
   "cell_type": "code",
   "execution_count": 137,
   "id": "388b2878",
   "metadata": {},
   "outputs": [],
   "source": [
    "# best of ε as it goes to a \n",
    "ε = 1\n",
    "TF, TKF0 = RK4(f, (TKP[-1],), TP[-1], 1/12, 150*12)"
   ]
  },
  {
   "cell_type": "code",
   "execution_count": 138,
   "id": "494d15f4",
   "metadata": {},
   "outputs": [],
   "source": [
    "# gets worse\n",
    "ε = .7\n",
    "TF, TKF1 = RK4(f, (TKP[-1],), TP[-1], 1/12, 150*12)"
   ]
  },
  {
   "cell_type": "code",
   "execution_count": 139,
   "id": "a290bd96",
   "metadata": {},
   "outputs": [],
   "source": [
    "\n",
    "ε = .4\n",
    "TF, TKF2 = RK4(f, (TKP[-1],), TP[-1], 1/12, 150*12)"
   ]
  },
  {
   "cell_type": "code",
   "execution_count": 140,
   "id": "66fa993a",
   "metadata": {},
   "outputs": [],
   "source": [
    "\n",
    "ε = .1\n",
    "TF, TKF3 = RK4(f, (TKP[-1],), TP[-1], 1/12, 150*12)"
   ]
  },
  {
   "cell_type": "code",
   "execution_count": 141,
   "id": "2ee008b5",
   "metadata": {},
   "outputs": [],
   "source": [
    "\n",
    "ε = 0\n",
    "TF, TKF4 = RK4(f, (TKP[-1],), TP[-1], 1/12, 150*12)"
   ]
  },
  {
   "cell_type": "code",
   "execution_count": 146,
   "id": "9ddb0480",
   "metadata": {},
   "outputs": [
    {
     "data": {
      "text/plain": [
       "<matplotlib.legend.Legend at 0x12f3bf9d0>"
      ]
     },
     "execution_count": 146,
     "metadata": {},
     "output_type": "execute_result"
    },
    {
     "data": {
      "image/png": "[encoded data removed]",
      "text/plain": [
       "<Figure size 432x288 with 1 Axes>"
      ]
     },
     "metadata": {
      "needs_background": "light"
     },
     "output_type": "display_data"
    }
   ],
   "source": [
    "# Step 5. Plot the results\n",
    "#\n",
    "plt.plot(TP, C_to_F(K_to_C(TKP)), label=\"past\")\n",
    "plt.plot(TF, C_to_F(K_to_C(TKF0)), label=\"epsilon=1\")\n",
    "plt.plot(TF, C_to_F(K_to_C(TKF1)), label=\"epsilon=.7\")\n",
    "plt.plot(TF, C_to_F(K_to_C(TKF2)), label=\"epsilon=.4\")\n",
    "plt.plot(TF, C_to_F(K_to_C(TKF3)), label=\"epsilon=.1\")\n",
    "plt.plot(TF, C_to_F(K_to_C(TKF4)), label=\"epsilon=0\")\n",
    "\n",
    "plt.title(\"Modern Day to Future Global Temperature\")\n",
    "plt.xlabel(\"Year\")\n",
    "plt.ylabel(\"Temperature\")\n",
    "plt.legend()"
   ]
  },
  {
   "cell_type": "code",
   "execution_count": 152,
   "id": "a801bc53",
   "metadata": {},
   "outputs": [
    {
     "name": "stdout",
     "output_type": "stream",
     "text": [
      "[294.59527164]\n"
     ]
    }
   ],
   "source": [
    "print (TKP0[2100])"
   ]
  },
  {
   "cell_type": "code",
   "execution_count": null,
   "id": "22492063",
   "metadata": {},
   "outputs": [],
   "source": []
  }
 ],
 "metadata": {
  "kernelspec": {
   "display_name": "Python 3 (ipykernel)",
   "language": "python",
   "name": "python3"
  },
  "language_info": {
   "codemirror_mode": {
    "name": "ipython",
    "version": 3
   },
   "file_extension": ".py",
   "mimetype": "text/x-python",
   "name": "python",
   "nbconvert_exporter": "python",
   "pygments_lexer": "ipython3",
   "version": "3.10.2"
  }
 },
 "nbformat": 4,
 "nbformat_minor": 5
}
